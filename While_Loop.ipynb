{
  "nbformat": 4,
  "nbformat_minor": 0,
  "metadata": {
    "colab": {
      "provenance": [],
      "authorship_tag": "ABX9TyO1UnjJ38icssnuI6gl9Um8",
      "include_colab_link": true
    },
    "kernelspec": {
      "name": "python3",
      "display_name": "Python 3"
    },
    "language_info": {
      "name": "python"
    }
  },
  "cells": [
    {
      "cell_type": "markdown",
      "metadata": {
        "id": "view-in-github",
        "colab_type": "text"
      },
      "source": [
        "<a href=\"https://colab.research.google.com/github/adityadhumal06/Python/blob/main/While_Loop.ipynb\" target=\"_parent\"><img src=\"https://colab.research.google.com/assets/colab-badge.svg\" alt=\"Open In Colab\"/></a>"
      ]
    },
    {
      "cell_type": "code",
      "execution_count": null,
      "metadata": {
        "id": "4J4YUGCwTGjA"
      },
      "outputs": [],
      "source": [
        "# while loop\n",
        "# for loop"
      ]
    },
    {
      "cell_type": "code",
      "source": [
        "# c programing\n",
        "while(condition){\n",
        "    code\n",
        "}"
      ],
      "metadata": {
        "id": "UFnTupctZ5wE"
      },
      "execution_count": null,
      "outputs": []
    },
    {
      "cell_type": "code",
      "source": [
        "# Python\n",
        "while condition:\n",
        "  code"
      ],
      "metadata": {
        "id": "a7q-YROeaMvH"
      },
      "execution_count": null,
      "outputs": []
    },
    {
      "cell_type": "code",
      "source": [
        "number = int(input(\"Enter Your Number\"))\n",
        "i = 1\n",
        "while i < 11:\n",
        "  print(number * i)\n",
        "  i += 1"
      ],
      "metadata": {
        "colab": {
          "base_uri": "https://localhost:8080/"
        },
        "id": "MY_vbnVbaTkh",
        "outputId": "adf52b78-f1e1-44fb-bd52-665a41bbade3"
      },
      "execution_count": null,
      "outputs": [
        {
          "output_type": "stream",
          "name": "stdout",
          "text": [
            "Enter Your Number10\n",
            "10\n",
            "20\n",
            "30\n",
            "40\n",
            "50\n",
            "60\n",
            "70\n",
            "80\n",
            "90\n",
            "100\n"
          ]
        }
      ]
    },
    {
      "cell_type": "code",
      "source": [
        "# print table of 29\n",
        "\n",
        "number = int(input(\"Enter Your Number \"))\n",
        "i = 1\n",
        "while i < 11:\n",
        "  print(number,'*',i,'=',number * i)\n",
        "  i += 1"
      ],
      "metadata": {
        "colab": {
          "base_uri": "https://localhost:8080/"
        },
        "id": "PJoZY6PAah4y",
        "outputId": "ba62bacd-fc06-43a1-877f-adfbd0525a4c"
      },
      "execution_count": null,
      "outputs": [
        {
          "output_type": "stream",
          "name": "stdout",
          "text": [
            "Enter Your Number 36\n",
            "36 * 1 = 36\n",
            "36 * 2 = 72\n",
            "36 * 3 = 108\n",
            "36 * 4 = 144\n",
            "36 * 5 = 180\n",
            "36 * 6 = 216\n",
            "36 * 7 = 252\n",
            "36 * 8 = 288\n",
            "36 * 9 = 324\n",
            "36 * 10 = 360\n"
          ]
        }
      ]
    },
    {
      "cell_type": "code",
      "source": [
        "number = int(input('Enter your number '))\n",
        "i = 1\n",
        "while i <= 10:\n",
        "  print(number*i)\n",
        "  i += 1"
      ],
      "metadata": {
        "colab": {
          "base_uri": "https://localhost:8080/"
        },
        "id": "mRsxLzA-cnuk",
        "outputId": "4f5ffa3c-9194-4374-9ab3-5ed06bda9cf6"
      },
      "execution_count": null,
      "outputs": [
        {
          "output_type": "stream",
          "name": "stdout",
          "text": [
            "Enter your number 30\n",
            "30\n",
            "60\n",
            "90\n",
            "120\n",
            "150\n",
            "180\n",
            "210\n",
            "240\n",
            "270\n",
            "300\n"
          ]
        }
      ]
    },
    {
      "cell_type": "code",
      "source": [
        " for i in range(1,10):\n",
        "  print(i * i)\n"
      ],
      "metadata": {
        "colab": {
          "base_uri": "https://localhost:8080/"
        },
        "id": "sp8b1PjHdazl",
        "outputId": "9ecfa6cd-7e05-48ad-b04d-0372543fa251"
      },
      "execution_count": null,
      "outputs": [
        {
          "output_type": "stream",
          "name": "stdout",
          "text": [
            "1\n",
            "4\n",
            "9\n",
            "16\n",
            "25\n",
            "36\n",
            "49\n",
            "64\n",
            "81\n"
          ]
        }
      ]
    },
    {
      "cell_type": "code",
      "source": [
        "# guessing game\n",
        "\n",
        "import random"
      ],
      "metadata": {
        "id": "jSZbY-pvdymy"
      },
      "execution_count": null,
      "outputs": []
    },
    {
      "cell_type": "code",
      "source": [
        "random.randint(1,100)"
      ],
      "metadata": {
        "colab": {
          "base_uri": "https://localhost:8080/"
        },
        "id": "__IexgJZfkEM",
        "outputId": "662041e2-7f41-4278-bb9c-477e273f38fd"
      },
      "execution_count": null,
      "outputs": [
        {
          "output_type": "execute_result",
          "data": {
            "text/plain": [
              "31"
            ]
          },
          "metadata": {},
          "execution_count": 17
        }
      ]
    },
    {
      "cell_type": "code",
      "source": [
        "import numpy as np\n",
        "jackpot = np.random.randint(1,100)\n",
        "\n",
        "\n",
        "guess = int(input('Guess your number '))\n",
        "counter = 1\n",
        "while guess != jackpot:\n",
        "  if guess < jackpot:\n",
        "    print('Enter Higher Number ')\n",
        "  else:\n",
        "    print('Lower Number')\n",
        "  guess = int(input('Guess your number '))\n",
        "  counter += 1\n",
        "print(\"Correct Answer\")\n",
        "print('You took',counter,'Attempts')"
      ],
      "metadata": {
        "colab": {
          "base_uri": "https://localhost:8080/"
        },
        "id": "do5O7h2wfqR3",
        "outputId": "6c948266-c2ec-4a18-db73-445be0c8b726"
      },
      "execution_count": null,
      "outputs": [
        {
          "output_type": "stream",
          "name": "stdout",
          "text": [
            "Guess your number 20\n",
            "Enter Higher Number \n",
            "Guess your number 50\n",
            "Enter Higher Number \n",
            "Guess your number 70\n",
            "Lower Number\n",
            "Guess your number 60\n",
            "Lower Number\n",
            "Guess your number 55\n",
            "Lower Number\n",
            "Guess your number 52\n",
            "Enter Higher Number \n",
            "Guess your number 54\n",
            "Lower Number\n",
            "Guess your number 53\n",
            "Correct Answer\n",
            "You took 8 Attempts\n"
          ]
        }
      ]
    },
    {
      "cell_type": "code",
      "source": [
        "import random\n",
        "number = random.randint(1,50)\n",
        "\n",
        "guess = int(input('Enter Your Number '))\n",
        "counter = 1\n",
        "while guess != number:\n",
        "  if guess < number:\n",
        "    print('Higher Number')\n",
        "  else:\n",
        "    print('Lower Number')\n",
        "  guess = int(input('Enter Your Number'))\n",
        "  counter += 1\n",
        "\n",
        "print('Correct')\n",
        "print('You took',counter,'attempts')"
      ],
      "metadata": {
        "colab": {
          "base_uri": "https://localhost:8080/"
        },
        "id": "XEKy0YtWizsm",
        "outputId": "e1f48fd5-3626-4ab8-ef1b-26f2e3eff5e4"
      },
      "execution_count": null,
      "outputs": [
        {
          "output_type": "stream",
          "name": "stdout",
          "text": [
            "Enter Your Number30\n",
            "Higher Number\n",
            "Enter Your Number50\n",
            "Lower Number\n",
            "Enter Your Number40\n",
            "Higher Number\n",
            "Enter Your Number45\n",
            "Higher Number\n",
            "Enter Your Number47\n",
            "Correct\n",
            "You took 5 attempts\n"
          ]
        }
      ]
    },
    {
      "cell_type": "code",
      "source": [
        "# For Loop"
      ],
      "metadata": {
        "id": "OG2NzoNTkUDe"
      },
      "execution_count": null,
      "outputs": []
    },
    {
      "cell_type": "code",
      "source": [
        "# range function"
      ],
      "metadata": {
        "id": "r6PiiLZkoAdA"
      },
      "execution_count": null,
      "outputs": []
    },
    {
      "cell_type": "code",
      "source": [
        "range(1,11)"
      ],
      "metadata": {
        "colab": {
          "base_uri": "https://localhost:8080/"
        },
        "id": "RxRzZnd5oV7z",
        "outputId": "86c42afe-3217-4ae4-f99f-46f7e164f69c"
      },
      "execution_count": null,
      "outputs": [
        {
          "output_type": "execute_result",
          "data": {
            "text/plain": [
              "range(1, 11)"
            ]
          },
          "metadata": {},
          "execution_count": 6
        }
      ]
    },
    {
      "cell_type": "code",
      "source": [
        "list(range(1,11))"
      ],
      "metadata": {
        "colab": {
          "base_uri": "https://localhost:8080/"
        },
        "id": "4liH_H2boXWB",
        "outputId": "5ebe5567-54a8-473f-9899-9dfded27e879"
      },
      "execution_count": null,
      "outputs": [
        {
          "output_type": "execute_result",
          "data": {
            "text/plain": [
              "[1, 2, 3, 4, 5, 6, 7, 8, 9, 10]"
            ]
          },
          "metadata": {},
          "execution_count": 7
        }
      ]
    },
    {
      "cell_type": "code",
      "source": [
        "range(5)"
      ],
      "metadata": {
        "colab": {
          "base_uri": "https://localhost:8080/"
        },
        "id": "7j0uIu1toZmW",
        "outputId": "3e7623d4-cb05-431e-edf7-85179f5b172a"
      },
      "execution_count": null,
      "outputs": [
        {
          "output_type": "execute_result",
          "data": {
            "text/plain": [
              "range(0, 5)"
            ]
          },
          "metadata": {},
          "execution_count": 8
        }
      ]
    },
    {
      "cell_type": "code",
      "source": [
        "list(range(5))"
      ],
      "metadata": {
        "colab": {
          "base_uri": "https://localhost:8080/"
        },
        "id": "9cDqSBPDoeCn",
        "outputId": "179cc80c-b1c2-4421-ce98-304cdc462bc2"
      },
      "execution_count": null,
      "outputs": [
        {
          "output_type": "execute_result",
          "data": {
            "text/plain": [
              "[0, 1, 2, 3, 4]"
            ]
          },
          "metadata": {},
          "execution_count": 9
        }
      ]
    },
    {
      "cell_type": "code",
      "source": [
        "# sequence\n",
        "# string\n",
        "'kolkata'"
      ],
      "metadata": {
        "colab": {
          "base_uri": "https://localhost:8080/",
          "height": 36
        },
        "id": "H5jFtQeHogaf",
        "outputId": "356156a8-fc28-47f9-f394-8b491c8ae4a8"
      },
      "execution_count": null,
      "outputs": [
        {
          "output_type": "execute_result",
          "data": {
            "text/plain": [
              "'kolkata'"
            ],
            "application/vnd.google.colaboratory.intrinsic+json": {
              "type": "string"
            }
          },
          "metadata": {},
          "execution_count": 10
        }
      ]
    },
    {
      "cell_type": "code",
      "source": [
        "['Kolkata','Mumbai',\"Pune\"]"
      ],
      "metadata": {
        "colab": {
          "base_uri": "https://localhost:8080/"
        },
        "id": "GjvT6_pPpIx0",
        "outputId": "62e44341-f27d-4951-9798-bcd9de651086"
      },
      "execution_count": null,
      "outputs": [
        {
          "output_type": "execute_result",
          "data": {
            "text/plain": [
              "['Kolkata', 'Mumbai', 'Pune']"
            ]
          },
          "metadata": {},
          "execution_count": 11
        }
      ]
    },
    {
      "cell_type": "code",
      "source": [
        "('Kolkata','Mumbai',\"Pune\")"
      ],
      "metadata": {
        "colab": {
          "base_uri": "https://localhost:8080/"
        },
        "id": "ZhwdZeMnpNgR",
        "outputId": "8019bf7b-25ae-4cce-c7d0-a11abd26b66e"
      },
      "execution_count": null,
      "outputs": [
        {
          "output_type": "execute_result",
          "data": {
            "text/plain": [
              "('Kolkata', 'Mumbai', 'Pune')"
            ]
          },
          "metadata": {},
          "execution_count": 12
        }
      ]
    },
    {
      "cell_type": "code",
      "source": [
        "{'Kolkata','Mumbai',\"Pune\"}"
      ],
      "metadata": {
        "colab": {
          "base_uri": "https://localhost:8080/"
        },
        "id": "nARmZa45pTQ6",
        "outputId": "51037efd-42df-4dd2-a545-fd012b76f149"
      },
      "execution_count": null,
      "outputs": [
        {
          "output_type": "execute_result",
          "data": {
            "text/plain": [
              "{'Kolkata', 'Mumbai', 'Pune'}"
            ]
          },
          "metadata": {},
          "execution_count": 13
        }
      ]
    },
    {
      "cell_type": "code",
      "source": [
        "for i in range(1,10):\n",
        "  print(i)"
      ],
      "metadata": {
        "colab": {
          "base_uri": "https://localhost:8080/"
        },
        "id": "MIBkcOOzpUG8",
        "outputId": "91fbb361-67de-4870-c5f0-92a6e970d00d"
      },
      "execution_count": null,
      "outputs": [
        {
          "output_type": "stream",
          "name": "stdout",
          "text": [
            "1\n",
            "2\n",
            "3\n",
            "4\n",
            "5\n",
            "6\n",
            "7\n",
            "8\n",
            "9\n"
          ]
        }
      ]
    },
    {
      "cell_type": "code",
      "source": [
        "for i in range(10,1,-1):\n",
        "  print(i)"
      ],
      "metadata": {
        "colab": {
          "base_uri": "https://localhost:8080/"
        },
        "id": "x8jp0E_wphTN",
        "outputId": "dfa5949f-0620-407f-df09-4a871a1586df"
      },
      "execution_count": null,
      "outputs": [
        {
          "output_type": "stream",
          "name": "stdout",
          "text": [
            "10\n",
            "9\n",
            "8\n",
            "7\n",
            "6\n",
            "5\n",
            "4\n",
            "3\n",
            "2\n"
          ]
        }
      ]
    },
    {
      "cell_type": "code",
      "source": [
        "for i in 'Bangalore':\n",
        "  print(i)"
      ],
      "metadata": {
        "colab": {
          "base_uri": "https://localhost:8080/"
        },
        "id": "S_xGswULppyn",
        "outputId": "61552e0d-7e24-4979-aa48-8396cd35fd49"
      },
      "execution_count": null,
      "outputs": [
        {
          "output_type": "stream",
          "name": "stdout",
          "text": [
            "B\n",
            "a\n",
            "n\n",
            "g\n",
            "a\n",
            "l\n",
            "o\n",
            "r\n",
            "e\n"
          ]
        }
      ]
    },
    {
      "cell_type": "code",
      "source": [
        "for i in [12345]:\n",
        "  print(i)"
      ],
      "metadata": {
        "colab": {
          "base_uri": "https://localhost:8080/"
        },
        "id": "RibJGGVYpzhl",
        "outputId": "273c5ec0-89f7-429f-91c9-8181680c37f0"
      },
      "execution_count": null,
      "outputs": [
        {
          "output_type": "stream",
          "name": "stdout",
          "text": [
            "12345\n"
          ]
        }
      ]
    },
    {
      "cell_type": "code",
      "source": [
        "for i in [1,2,3,4]:\n",
        "  print(i)"
      ],
      "metadata": {
        "colab": {
          "base_uri": "https://localhost:8080/"
        },
        "id": "JM22D1lAp3Nn",
        "outputId": "860ae52b-4086-430c-a19c-b306a9b04cd7"
      },
      "execution_count": null,
      "outputs": [
        {
          "output_type": "stream",
          "name": "stdout",
          "text": [
            "1\n",
            "2\n",
            "3\n",
            "4\n"
          ]
        }
      ]
    },
    {
      "cell_type": "code",
      "source": [
        "# *\n",
        "# * *\n",
        "# * * *\n",
        "# * * * *\n",
        "# * * * * *"
      ],
      "metadata": {
        "id": "NphdynRup91_"
      },
      "execution_count": 20,
      "outputs": []
    },
    {
      "cell_type": "code",
      "source": [
        "rows = int(input('Enter your number'))\n",
        "for i in range(1,rows + 1):\n",
        "  for j in range(0,i):\n",
        "    print('*',end=' ')\n",
        "  print('')"
      ],
      "metadata": {
        "colab": {
          "base_uri": "https://localhost:8080/"
        },
        "id": "vkFKhDkxrZxH",
        "outputId": "2527fec6-a508-4d80-e620-0d63c4f63478"
      },
      "execution_count": 22,
      "outputs": [
        {
          "output_type": "stream",
          "name": "stdout",
          "text": [
            "Enter your number10\n",
            "* \n",
            "* * \n",
            "* * * \n",
            "* * * * \n",
            "* * * * * \n",
            "* * * * * * \n",
            "* * * * * * * \n",
            "* * * * * * * * \n",
            "* * * * * * * * * \n",
            "* * * * * * * * * * \n"
          ]
        }
      ]
    },
    {
      "cell_type": "code",
      "source": [
        "row = 6\n",
        "for i in range(1,row):\n",
        "  for j in range(0,i):\n",
        "    print('$',end=' ')\n",
        "  print('')"
      ],
      "metadata": {
        "colab": {
          "base_uri": "https://localhost:8080/"
        },
        "id": "dlH0y9Jas2gx",
        "outputId": "09ea107f-de95-4538-9dcf-a7b501663918"
      },
      "execution_count": 24,
      "outputs": [
        {
          "output_type": "stream",
          "name": "stdout",
          "text": [
            "$ \n",
            "$ $ \n",
            "$ $ $ \n",
            "$ $ $ $ \n",
            "$ $ $ $ $ \n"
          ]
        }
      ]
    },
    {
      "cell_type": "code",
      "source": [
        "# break - continue - pass"
      ],
      "metadata": {
        "id": "COfN42tBtLh4"
      },
      "execution_count": 25,
      "outputs": []
    },
    {
      "cell_type": "code",
      "source": [
        "# break"
      ],
      "metadata": {
        "id": "Gsacmw0jvCqC"
      },
      "execution_count": 26,
      "outputs": []
    },
    {
      "cell_type": "code",
      "source": [
        "for i in range(1,11,1):\n",
        "  if i == 5:\n",
        "    break\n",
        "  print(i)"
      ],
      "metadata": {
        "colab": {
          "base_uri": "https://localhost:8080/"
        },
        "id": "vThMmCb3vD5r",
        "outputId": "5770ac24-0993-44ab-a9c3-08e1bb1a6aec"
      },
      "execution_count": 27,
      "outputs": [
        {
          "output_type": "stream",
          "name": "stdout",
          "text": [
            "1\n",
            "2\n",
            "3\n",
            "4\n"
          ]
        }
      ]
    },
    {
      "cell_type": "code",
      "source": [
        "# continue\n",
        "\n",
        "for i in range(1,11,1):\n",
        "  if i == 5:\n",
        "    continue\n",
        "  print(i)"
      ],
      "metadata": {
        "colab": {
          "base_uri": "https://localhost:8080/"
        },
        "id": "GNe98JzBvd8G",
        "outputId": "fbd5f899-5a88-4cc6-82f1-06d386ac38ee"
      },
      "execution_count": 28,
      "outputs": [
        {
          "output_type": "stream",
          "name": "stdout",
          "text": [
            "1\n",
            "2\n",
            "3\n",
            "4\n",
            "6\n",
            "7\n",
            "8\n",
            "9\n",
            "10\n"
          ]
        }
      ]
    },
    {
      "cell_type": "code",
      "source": [
        "\n",
        "for i in range(1,11,1):\n",
        "  if i == 5:\n",
        "    continue\n",
        "  print(i)\n",
        "  print('Hello')"
      ],
      "metadata": {
        "colab": {
          "base_uri": "https://localhost:8080/"
        },
        "id": "pSkO0KoYwJ48",
        "outputId": "ca575442-361f-4b23-e8de-a7620c7c696e"
      },
      "execution_count": 29,
      "outputs": [
        {
          "output_type": "stream",
          "name": "stdout",
          "text": [
            "1\n",
            "Hello\n",
            "2\n",
            "Hello\n",
            "3\n",
            "Hello\n",
            "4\n",
            "Hello\n",
            "6\n",
            "Hello\n",
            "7\n",
            "Hello\n",
            "8\n",
            "Hello\n",
            "9\n",
            "Hello\n",
            "10\n",
            "Hello\n"
          ]
        }
      ]
    },
    {
      "cell_type": "code",
      "source": [
        "for i in range(1,12):\n",
        "  pass"
      ],
      "metadata": {
        "id": "WVGKIy3VwSXZ"
      },
      "execution_count": 30,
      "outputs": []
    },
    {
      "cell_type": "code",
      "source": [],
      "metadata": {
        "id": "IoBSq7Pvw48w"
      },
      "execution_count": null,
      "outputs": []
    }
  ]
}