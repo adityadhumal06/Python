{
  "nbformat": 4,
  "nbformat_minor": 0,
  "metadata": {
    "colab": {
      "provenance": [],
      "authorship_tag": "ABX9TyMbu5BTGlhyNjtTd+0d5Np1",
      "include_colab_link": true
    },
    "kernelspec": {
      "name": "python3",
      "display_name": "Python 3"
    },
    "language_info": {
      "name": "python"
    }
  },
  "cells": [
    {
      "cell_type": "markdown",
      "metadata": {
        "id": "view-in-github",
        "colab_type": "text"
      },
      "source": [
        "<a href=\"https://colab.research.google.com/github/adityadhumal06/Python/blob/main/Decision_Control_If_Else_Statement.ipynb\" target=\"_parent\"><img src=\"https://colab.research.google.com/assets/colab-badge.svg\" alt=\"Open In Colab\"/></a>"
      ]
    },
    {
      "cell_type": "code",
      "execution_count": 4,
      "metadata": {
        "colab": {
          "base_uri": "https://localhost:8080/"
        },
        "id": "XI1eLZ-0OImf",
        "outputId": "431e2023-b3fd-49dd-bec9-cdc1eee3d252"
      },
      "outputs": [
        {
          "output_type": "stream",
          "name": "stdout",
          "text": [
            "Enter your Email: adityadhumal@gmail.com\n",
            "Enter your correct password: 1234\n",
            "Welcome\n"
          ]
        }
      ],
      "source": [
        "# correct email - adityadhumal@gmail.com\n",
        "# password - 1234\n",
        "\n",
        "email = input('Enter your Email: ')\n",
        "password = input('Enter your correct password: ')\n",
        "\n",
        "if email == 'adityadhumal@gmail.com' and password == \"1234\":\n",
        "  print('Welcome')\n",
        "else:\n",
        "  print('Incorrect Crediantial')"
      ]
    },
    {
      "cell_type": "code",
      "source": [
        "email = input('Enter your Email: ')\n",
        "password = input('Enter your correct password: ')\n",
        "\n",
        "if email == 'adityadhumal@gmail.com' and password == \"1234\":\n",
        "  print('Welcome')\n",
        "elif email == 'adityadhumal@gmail.com' and password != '1234':\n",
        "  print('Incorrect Password')\n",
        "  passoword = input(\"Enter your correct password\")\n",
        "  if password == '1234':\n",
        "    print('Finally correct')\n",
        "  else:\n",
        "    print('Still Incorrect')\n",
        "else:\n",
        "  print('Incorrect Crediantial')"
      ],
      "metadata": {
        "colab": {
          "base_uri": "https://localhost:8080/"
        },
        "id": "sJM4yIHYO3fR",
        "outputId": "fd58688c-d033-42d5-ddd0-aed8f632d4ad"
      },
      "execution_count": 6,
      "outputs": [
        {
          "output_type": "stream",
          "name": "stdout",
          "text": [
            "Enter your Email: adityadhumal@gmail.com\n",
            "Enter your correct password: 123\n",
            "Incorrect Password\n",
            "Enter your correct password1234\n",
            "Still Incorrect\n"
          ]
        }
      ]
    },
    {
      "cell_type": "code",
      "source": [
        "email = input('Enter your Email: ')\n",
        "if '@' in email:\n",
        "  password = input('Enter your correct password: ')\n",
        "\n",
        "  if email == 'adityadhumal@gmail.com' and password == \"1234\":\n",
        "    print('Welcome')\n",
        "  elif email == 'adityadhumal@gmail.com' and password != '1234':\n",
        "    print('Incorrect Password')\n",
        "    passoword = input(\"Enter your correct password\")\n",
        "    if password == '1234':\n",
        "      print('Finally correct')\n",
        "    else:\n",
        "      print('Still Incorrect')\n",
        "else:\n",
        "    print('Incorrect Crediantial')"
      ],
      "metadata": {
        "colab": {
          "base_uri": "https://localhost:8080/"
        },
        "id": "pirJSwV_Q3JB",
        "outputId": "c9022360-fab6-4b6d-9666-d9415dd252a3"
      },
      "execution_count": 8,
      "outputs": [
        {
          "output_type": "stream",
          "name": "stdout",
          "text": [
            "Enter your Email: aditya\n",
            "Incorrect Crediantial\n"
          ]
        }
      ]
    },
    {
      "cell_type": "code",
      "source": [],
      "metadata": {
        "id": "dhNKnpE1RxL6"
      },
      "execution_count": null,
      "outputs": []
    }
  ]
}