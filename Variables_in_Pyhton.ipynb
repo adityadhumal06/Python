{
  "nbformat": 4,
  "nbformat_minor": 0,
  "metadata": {
    "colab": {
      "provenance": [],
      "authorship_tag": "ABX9TyN4G9C4g+LBUWT5Bum+P2gB",
      "include_colab_link": true
    },
    "kernelspec": {
      "name": "python3",
      "display_name": "Python 3"
    },
    "language_info": {
      "name": "python"
    }
  },
  "cells": [
    {
      "cell_type": "markdown",
      "metadata": {
        "id": "view-in-github",
        "colab_type": "text"
      },
      "source": [
        "<a href=\"https://colab.research.google.com/github/adityadhumal06/Python/blob/main/Variables_in_Pyhton.ipynb\" target=\"_parent\"><img src=\"https://colab.research.google.com/assets/colab-badge.svg\" alt=\"Open In Colab\"/></a>"
      ]
    },
    {
      "cell_type": "code",
      "execution_count": 1,
      "metadata": {
        "id": "SggoyV4Xv4Ii"
      },
      "outputs": [],
      "source": [
        "# c lang\n",
        "# int a = 5"
      ]
    },
    {
      "cell_type": "code",
      "source": [
        "# in python no variable declearation\n",
        "\n",
        "name = 'aditya'"
      ],
      "metadata": {
        "id": "l1WGLYVjxsyp"
      },
      "execution_count": 2,
      "outputs": []
    },
    {
      "cell_type": "code",
      "source": [
        "print(name)"
      ],
      "metadata": {
        "colab": {
          "base_uri": "https://localhost:8080/"
        },
        "id": "XIhZjxefx0V0",
        "outputId": "b37524aa-6969-4918-d399-d3e8f92f3ea6"
      },
      "execution_count": 4,
      "outputs": [
        {
          "output_type": "stream",
          "name": "stdout",
          "text": [
            "aditya\n"
          ]
        }
      ]
    },
    {
      "cell_type": "code",
      "source": [
        "# Dynamic typing - no variable dtype are declared python automatically access\n",
        "# static typing - in java,c,c++ they declered in dtype"
      ],
      "metadata": {
        "id": "R3k5ecXiyIjD"
      },
      "execution_count": 5,
      "outputs": []
    },
    {
      "cell_type": "code",
      "source": [
        "name = 45"
      ],
      "metadata": {
        "id": "qeFP6niFzDI8"
      },
      "execution_count": 6,
      "outputs": []
    },
    {
      "cell_type": "code",
      "source": [
        "print(name)"
      ],
      "metadata": {
        "colab": {
          "base_uri": "https://localhost:8080/"
        },
        "id": "rfRB-kFBzEmW",
        "outputId": "c74885e8-1784-4c8a-cf04-92b209c0deab"
      },
      "execution_count": 7,
      "outputs": [
        {
          "output_type": "stream",
          "name": "stdout",
          "text": [
            "45\n"
          ]
        }
      ]
    },
    {
      "cell_type": "code",
      "source": [
        "name = True\n",
        "print(name)"
      ],
      "metadata": {
        "colab": {
          "base_uri": "https://localhost:8080/"
        },
        "id": "8fLLHaxtzFtp",
        "outputId": "755f5d7c-b517-4132-d55b-126cabecf777"
      },
      "execution_count": 8,
      "outputs": [
        {
          "output_type": "stream",
          "name": "stdout",
          "text": [
            "True\n"
          ]
        }
      ]
    },
    {
      "cell_type": "code",
      "source": [
        "# Dynamic binding - 1 variable stores multiple data types."
      ],
      "metadata": {
        "id": "kHFwfWCUzJLI"
      },
      "execution_count": 9,
      "outputs": []
    },
    {
      "cell_type": "code",
      "source": [
        "# static binding - do not change data types."
      ],
      "metadata": {
        "id": "WMOgpGtIzSkf"
      },
      "execution_count": 10,
      "outputs": []
    },
    {
      "cell_type": "code",
      "source": [
        "# Special Decleration syntax\n",
        "\n",
        "a = 5; b = 6; c = 7"
      ],
      "metadata": {
        "id": "Z1nbmkbGzWPl"
      },
      "execution_count": 11,
      "outputs": []
    },
    {
      "cell_type": "code",
      "source": [
        "print(a,b,c)"
      ],
      "metadata": {
        "colab": {
          "base_uri": "https://localhost:8080/"
        },
        "id": "VdzsOaNVzmYQ",
        "outputId": "6188ccb5-3d1f-4278-e6e0-c43980014e24"
      },
      "execution_count": 12,
      "outputs": [
        {
          "output_type": "stream",
          "name": "stdout",
          "text": [
            "5 6 7\n"
          ]
        }
      ]
    },
    {
      "cell_type": "code",
      "source": [
        "a,b,c = 5,6,7\n",
        "print(a,b,c)"
      ],
      "metadata": {
        "colab": {
          "base_uri": "https://localhost:8080/"
        },
        "id": "NPTdn11Xznsn",
        "outputId": "4a9cc68a-7cec-4792-d5c5-31361d027417"
      },
      "execution_count": 14,
      "outputs": [
        {
          "output_type": "stream",
          "name": "stdout",
          "text": [
            "5 6 7\n"
          ]
        }
      ]
    },
    {
      "cell_type": "code",
      "source": [
        "print(a)\n",
        "print(b)\n",
        "print(c)"
      ],
      "metadata": {
        "colab": {
          "base_uri": "https://localhost:8080/"
        },
        "id": "rRT3V62hzrHf",
        "outputId": "6f3b8e49-a210-4f1a-9074-8f4c939aa0aa"
      },
      "execution_count": 15,
      "outputs": [
        {
          "output_type": "stream",
          "name": "stdout",
          "text": [
            "5\n",
            "6\n",
            "7\n"
          ]
        }
      ]
    },
    {
      "cell_type": "code",
      "source": [],
      "metadata": {
        "id": "Cw6v8sHizxda"
      },
      "execution_count": null,
      "outputs": []
    }
  ]
}